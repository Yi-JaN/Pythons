{
 "cells": [
  {
   "cell_type": "code",
   "execution_count": null,
   "metadata": {},
   "outputs": [],
   "source": [
    #計算個人所得稅
    # 公式 納稅額=(工資薪金所得-扣除數)*適合稅率-速度扣除數
    import math
    mymoney=int(input())    ##你的薪水
    money=(mymoney-3500)    ##個人所得稅公式先剪扣除數
    if money <=1500:          ##扣完扣除數之後再把扣完的錢丟進if函數 進而找到目前這納稅錢的適合稅率-速度扣除數
        n=(money*0.03)-0      ##換算完成後再列印,列印時把後面小數點砍掉並且不4捨5入進位
        print(math.floor(n))
    elif money>1500 and money<=4500 :
        n=(money*0.10)-105
        print(math.floor(n))
    elif money>4500 and money<=9000 :
        n=(money*0.20)-555
        print(math.floor(n))
    elif money>9000 and money<=35000 :
        n=(money*0.25)-1005
        print(math.floor(n))
    elif money>35000 and money<=55000 :
        n=(money*0.30)-2755
        print(math.floor(n))
    elif money>55000 and money<=80000 :
        n=(money*0.35)-5505
        print(math.floor(n))
    else :
        n=(money*0.45)-13505
        print(math.floor(n))
   ]
  },
  {
   "cell_type": "code",
   "execution_count": null,
   "metadata": {},
   "outputs": [],
   "source": []
  }
 ],
 "metadata": {
  "kernelspec": {
   "display_name": "Python 3",
   "language": "python",
   "name": "python3"
  },
  "language_info": {
   "codemirror_mode": {
    "name": "ipython",
    "version": 3
   },
   "file_extension": ".py",
   "mimetype": "text/x-python",
   "name": "python",
   "nbconvert_exporter": "python",
   "pygments_lexer": "ipython3",
   "version": "3.8.3"
  }
 },
 "nbformat": 4,
 "nbformat_minor": 4
}
