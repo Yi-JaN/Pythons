{
 "cells": [
  {
   "cell_type": "code",
   "execution_count": 37,
   "metadata": {},
   "outputs": [
    {
     "name": "stdout",
     "output_type": "stream",
     "text": [
      "169.8\n",
      "71.2\n",
      "我的BMI為:  24.6\n",
      "過重\n"
     ]
    }
   ],
   "source": [
    #BMI換算
    import math     #會用到math.floor 先呼叫 math
    x=float(input())  #x為身高
    y=float(input())  #y為體重
    xx=(x/100)        #xx是身高/100公式
    yy=(y/(xx**2))    #yy是算BMI的總公式 也就是BMI值
    print("我的BMI為: ",math.floor(yy*10)/10)  #公式算出來的值先列印,並且用floor把算出來的值停留在小數點第一位,第一位後面的值砍掉(不4捨5入)
    if yy < 18.5 :          #之後列印完BMI再來就是BMI值找到範圍值位於哪個體態,這裡就用if迴圈去找,如果找到這個範圍,那就print那裡的體態
        print("體重過輕")    #並且做第二行的列印!
    elif yy>=18.5 and yy<24 :
        print("正常範圍")
    elif yy>=24 and yy<27 :
        print("過重")
    elif yy>=27 and yy<30 :
        print("輕度肥胖")
    elif yy>=30 and yy<35 :
        print("中度肥胖")
    else :
        print("重度肥胖")

    # 題目:x->172.6           題目2 x->164.9
    #      y->62.9                 y->76.7
    #     我的BMI為: 21.1          我的BMI為: 28.2
    #     正常範圍                 輕度肥胖
   ]
  },
  {
   "cell_type": "code",
   "execution_count": null,
   "metadata": {},
   "outputs": [],
   "source": []
  }
 ],
 "metadata": {
  "kernelspec": {
   "display_name": "Python 3",
   "language": "python",
   "name": "python3"
  },
  "language_info": {
   "codemirror_mode": {
    "name": "ipython",
    "version": 3
   },
   "file_extension": ".py",
   "mimetype": "text/x-python",
   "name": "python",
   "nbconvert_exporter": "python",
   "pygments_lexer": "ipython3",
   "version": "3.8.3"
  }
 },
 "nbformat": 4,
 "nbformat_minor": 4
}
